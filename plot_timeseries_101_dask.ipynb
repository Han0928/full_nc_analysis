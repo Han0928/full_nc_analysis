{
 "cells": [
  {
   "cell_type": "code",
   "execution_count": 1,
   "metadata": {},
   "outputs": [
    {
     "ename": "KeyError",
     "evalue": "'units'",
     "output_type": "error",
     "traceback": [
      "\u001b[0;31m---------------------------------------------------------------------------\u001b[0m",
      "\u001b[0;31mKeyError\u001b[0m                                  Traceback (most recent call last)",
      "Cell \u001b[0;32mIn[1], line 14\u001b[0m\n\u001b[1;32m     11\u001b[0m time_data \u001b[38;5;241m=\u001b[39m ds[\u001b[38;5;124m'\u001b[39m\u001b[38;5;124mtime\u001b[39m\u001b[38;5;124m'\u001b[39m]\u001b[38;5;241m.\u001b[39mvalues\n\u001b[1;32m     13\u001b[0m \u001b[38;5;66;03m# Convert the time data to a pandas datetime object\u001b[39;00m\n\u001b[0;32m---> 14\u001b[0m time_units \u001b[38;5;241m=\u001b[39m \u001b[43mds\u001b[49m\u001b[43m[\u001b[49m\u001b[38;5;124;43m'\u001b[39;49m\u001b[38;5;124;43mtime\u001b[39;49m\u001b[38;5;124;43m'\u001b[39;49m\u001b[43m]\u001b[49m\u001b[38;5;241;43m.\u001b[39;49m\u001b[43mattrs\u001b[49m\u001b[43m[\u001b[49m\u001b[38;5;124;43m'\u001b[39;49m\u001b[38;5;124;43munits\u001b[39;49m\u001b[38;5;124;43m'\u001b[39;49m\u001b[43m]\u001b[49m\n\u001b[1;32m     15\u001b[0m time_calendar \u001b[38;5;241m=\u001b[39m ds[\u001b[38;5;124m'\u001b[39m\u001b[38;5;124mtime\u001b[39m\u001b[38;5;124m'\u001b[39m]\u001b[38;5;241m.\u001b[39mcalendar\n\u001b[1;32m     16\u001b[0m time \u001b[38;5;241m=\u001b[39m xr\u001b[38;5;241m.\u001b[39mcoding\u001b[38;5;241m.\u001b[39mtimes\u001b[38;5;241m.\u001b[39mdecode_cf_datetime(time_data, units\u001b[38;5;241m=\u001b[39mtime_units, calendar\u001b[38;5;241m=\u001b[39mtime_calendar)\n",
      "\u001b[0;31mKeyError\u001b[0m: 'units'"
     ]
    }
   ],
   "source": [
    "import xarray as xr\n",
    "import matplotlib.pyplot as plt\n",
    "\n",
    "# load the data using xr library\n",
    "path= \"/ocean/projects/atm200005p/ding0928/nc_file_full/u-ct706/full_nc_files/\"\n",
    "filename = path+'Rgn_number_of_particles_per_air_molecule_of_soluble_nucleation_mode_aerosol_in_air_m01s34i101.nc'\n",
    "ds = xr.open_dataset(filename)\n",
    "\n",
    "# Extract the variable and time data from the dataset\n",
    "variable_data = ds['number_of_particles_per_air_molecule_of_soluble_nucleation_mode_aerosol_in_air'].values\n",
    "time_data = ds['time'].values\n",
    "\n",
    "# Convert the time data to a pandas datetime object\n",
    "time_units = ds['time'].attrs['units']\n",
    "time_calendar = ds['time'].calendar\n",
    "time = xr.coding.times.decode_cf_datetime(time_data, units=time_units, calendar=time_calendar)\n",
    "\n",
    "# Create a linear plot of the variable against time\n",
    "plt.plot(time, variable_data)\n",
    "plt.xlabel('Time')\n",
    "plt.ylabel('Variable')\n",
    "plt.title('Linear Plot of Variable against Time')\n",
    "plt.show()\n",
    "\n"
   ]
  },
  {
   "cell_type": "code",
   "execution_count": null,
   "metadata": {},
   "outputs": [],
   "source": [
    "import xarray as xr\n",
    "import matplotlib.pyplot as plt\n",
    "\n",
    "\n",
    "# Open the NetCDF file and load the data\n",
    "path= \"/jet/home/ding0928/python_analysis/Han_connect/nc_flie/u-ct706/full_nc_files/\"\n",
    "filename = path+'Rgn_number_of_particles_per_air_molecule_of_soluble_nucleation_mode_aerosol_in_air_m01s34i101.nc'\n",
    "ds = xr.open_dataset(filename)\n"
   ]
  },
  {
   "cell_type": "code",
   "execution_count": null,
   "metadata": {},
   "outputs": [],
   "source": [
    "import pandas as pd\n",
    "# Extract the variable and time data from the dataset\n",
    "variable_data = ds['number_of_particles_per_air_molecule_of_soluble_nucleation_mode_aerosol_in_air'].mean(dim=['grid_latitude', 'grid_longitude']).sel(model_level_number=0)\n",
    "\n",
    "time_data = ds['time'].values\n",
    "\n",
    "# Convert the time data to a pandas datetime object\n",
    "time = pd.to_datetime(time_data)\n",
    "\n",
    "# Print the time coordinate\n",
    "print(f'Time coordinate: {time}')\n"
   ]
  },
  {
   "cell_type": "code",
   "execution_count": null,
   "metadata": {},
   "outputs": [],
   "source": [
    "# Create a linear plot of the variable against time\n",
    "plt.plot(time, variable_data)\n",
    "plt.xlabel('Time')\n",
    "plt.ylabel('Variable')\n",
    "plt.title('Linear Plot of Variable against Time')\n",
    "plt.show()"
   ]
  },
  {
   "cell_type": "code",
   "execution_count": null,
   "metadata": {},
   "outputs": [],
   "source": []
  }
 ],
 "metadata": {
  "kernelspec": {
   "display_name": "Python (iris_3.9_vscode)",
   "language": "python",
   "name": "iris_3.9_vscode"
  },
  "language_info": {
   "codemirror_mode": {
    "name": "ipython",
    "version": 3
   },
   "file_extension": ".py",
   "mimetype": "text/x-python",
   "name": "python",
   "nbconvert_exporter": "python",
   "pygments_lexer": "ipython3",
   "version": "3.9.16"
  }
 },
 "nbformat": 4,
 "nbformat_minor": 4
}
