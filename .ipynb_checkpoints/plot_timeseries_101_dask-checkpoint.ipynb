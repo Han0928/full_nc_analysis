{
 "cells": [
  {
   "cell_type": "code",
   "execution_count": null,
   "metadata": {},
   "outputs": [],
   "source": [
    "import xarray as xr\n",
    "import matplotlib.pyplot as plt\n",
    "\n",
    "# load the data using xr library\n",
    "path= \"/ocean/projects/atm200005p/ding0928/nc_file_full/u-ct706/full_nc_files/\"\n",
    "filename = path+'Rgn_number_of_particles_per_air_molecule_of_soluble_nucleation_mode_aerosol_in_air_m01s34i101.nc'\n",
    "ds = xr.open_dataset(filename)\n",
    "\n",
    "# Extract the variable and time data from the dataset\n",
    "variable_data = ds['number_of_particles_per_air_molecule_of_soluble_nucleation_mode_aerosol_in_air'].values\n",
    "time_data = ds['time'].values\n",
    "\n",
    "# Convert the time data to a pandas datetime object\n",
    "time_units = ds['time'].attrs['units']\n",
    "time_calendar = ds['time'].calendar\n",
    "time = xr.coding.times.decode_cf_datetime(time_data, units=time_units, calendar=time_calendar)\n",
    "\n",
    "# Create a linear plot of the variable against time\n",
    "plt.plot(time, variable_data)\n",
    "plt.xlabel('Time')\n",
    "plt.ylabel('Variable')\n",
    "plt.title('Linear Plot of Variable against Time')\n",
    "plt.show()\n",
    "\n"
   ]
  },
  {
   "cell_type": "code",
   "execution_count": null,
   "metadata": {},
   "outputs": [],
   "source": [
    "import xarray as xr\n",
    "import matplotlib.pyplot as plt\n",
    "\n",
    "\n",
    "# Open the NetCDF file and load the data\n",
    "path= \"/jet/home/ding0928/python_analysis/Han_connect/nc_flie/u-ct706/full_nc_files/\"\n",
    "filename = path+'Rgn_number_of_particles_per_air_molecule_of_soluble_nucleation_mode_aerosol_in_air_m01s34i101.nc'\n",
    "ds = xr.open_dataset(filename)\n"
   ]
  },
  {
   "cell_type": "code",
   "execution_count": null,
   "metadata": {},
   "outputs": [],
   "source": [
    "import pandas as pd\n",
    "# Extract the variable and time data from the dataset\n",
    "variable_data = ds['number_of_particles_per_air_molecule_of_soluble_nucleation_mode_aerosol_in_air'].mean(dim=['grid_latitude', 'grid_longitude']).sel(model_level_number=0)\n",
    "\n",
    "time_data = ds['time'].values\n",
    "\n",
    "# Convert the time data to a pandas datetime object\n",
    "time = pd.to_datetime(time_data)\n",
    "\n",
    "# Print the time coordinate\n",
    "print(f'Time coordinate: {time}')\n"
   ]
  },
  {
   "cell_type": "code",
   "execution_count": null,
   "metadata": {},
   "outputs": [],
   "source": [
    "# Create a linear plot of the variable against time\n",
    "plt.plot(time, variable_data)\n",
    "plt.xlabel('Time')\n",
    "plt.ylabel('Variable')\n",
    "plt.title('Linear Plot of Variable against Time')\n",
    "plt.show()"
   ]
  },
  {
   "cell_type": "code",
   "execution_count": null,
   "metadata": {},
   "outputs": [],
   "source": []
  }
 ],
 "metadata": {
  "kernelspec": {
   "display_name": "Python (iris_3.9_vscode)",
   "language": "python",
   "name": "iris_3.9_vscode"
  },
  "language_info": {
   "codemirror_mode": {
    "name": "ipython",
    "version": 3
   },
   "file_extension": ".py",
   "mimetype": "text/x-python",
   "name": "python",
   "nbconvert_exporter": "python",
   "pygments_lexer": "ipython3",
   "version": "3.9.16"
  }
 },
 "nbformat": 4,
 "nbformat_minor": 4
}
